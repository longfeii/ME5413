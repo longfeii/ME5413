{
 "cells": [
  {
   "cell_type": "code",
   "execution_count": 1,
   "id": "7fb4041b",
   "metadata": {},
   "outputs": [
    {
     "ename": "ModuleNotFoundError",
     "evalue": "No module named 'rospy'",
     "output_type": "error",
     "traceback": [
      "\u001b[1;31m---------------------------------------------------------------------------\u001b[0m",
      "\u001b[1;31mModuleNotFoundError\u001b[0m                       Traceback (most recent call last)",
      "Input \u001b[1;32mIn [1]\u001b[0m, in \u001b[0;36m<cell line: 1>\u001b[1;34m()\u001b[0m\n\u001b[1;32m----> 1\u001b[0m \u001b[38;5;28;01mimport\u001b[39;00m \u001b[38;5;21;01mrospy\u001b[39;00m\n\u001b[0;32m      2\u001b[0m \u001b[38;5;28;01mimport\u001b[39;00m \u001b[38;5;21;01mnumpy\u001b[39;00m \u001b[38;5;28;01mas\u001b[39;00m \u001b[38;5;21;01mnp\u001b[39;00m\n\u001b[0;32m      3\u001b[0m \u001b[38;5;28;01mimport\u001b[39;00m \u001b[38;5;21;01msensor_msgs\u001b[39;00m\u001b[38;5;21;01m.\u001b[39;00m\u001b[38;5;21;01mpoint_cloud2\u001b[39;00m \u001b[38;5;28;01mas\u001b[39;00m \u001b[38;5;21;01mpc2\u001b[39;00m\n",
      "\u001b[1;31mModuleNotFoundError\u001b[0m: No module named 'rospy'"
     ]
    }
   ],
   "source": [
    "import rospy\n",
    "import numpy as np\n",
    "import sensor_msgs.point_cloud2 as pc2\n",
    "from matplotlib import pyplot as plt\n",
    "from sensor_msgs.msg import PointCloud2\n",
    "from jsk_recognition_msgs.msg import BoundingBoxArray,BoundingBox\n",
    "from sklearn.cluster import DBSCAN\n",
    "import time\n",
    "\n",
    "def Callback(data):\n",
    "    time_start = time.time()  # time start\n",
    "    point_clound = pc2.read_points(data, skip_nans=True)\n",
    "    d = list(point_clound)\n",
    "    n_data = len(d)\n",
    "    points = np.zeros((n_data, 4))\n",
    "    for i in range(n_data):\n",
    "        # if d[i][1]>1:\n",
    "            points[i, 0] = d[i][0]\n",
    "            points[i, 1] = d[i][1]\n",
    "            points[i, 2] = d[i][2]\n",
    "            points[i, 3] = d[i][3]\n",
    "    bboxarray = BoundingBoxArray()\n",
    "    bboxarray.header.frame_id = 'lidar_top'\n",
    "    cluster = DBSCAN(eps=0.4, min_samples=20).fit(points[:, :3])\n",
    "    labels = cluster.labels_\n",
    "    unique_labels = set(labels)\n",
    "    for k in zip(unique_labels):  # for every instance\n",
    "        if k != -1:  # not discrete\n",
    "            class_member = (labels == k)\n",
    "            xyz = points[class_member]  # choose all these points\n",
    "            xmax = np.max(xyz[:, 0])\n",
    "            xmin = np.min(xyz[:, 0])\n",
    "            ymax = np.max(xyz[:, 1])\n",
    "            ymin = np.min(xyz[:, 1])\n",
    "            zmax = np.max(xyz[:, 2])\n",
    "            zmin = np.min(xyz[:, 2])\n",
    "            width = xmax - xmin\n",
    "            height = ymax - ymin\n",
    "            deep = zmax - zmin\n",
    "            xc = (xmax+xmin)*0.5\n",
    "            yc = (ymax+ymin)* 0.5\n",
    "            zc = (zmax+zmin)* 0.5\n",
    "            boundingbox = BoundingBox()\n",
    "            boundingbox.header.frame_id = \"lidar_top\"\n",
    "            boundingbox.pose.orientation.w = 1\n",
    "            boundingbox.pose.position.x = xc  # x boundingbox x coordinate\n",
    "            boundingbox.pose.position.y = yc  # y boundingbox y coordinate\n",
    "            boundingbox.pose.position.z = zc  # z boundingbox z coordinate\n",
    "            boundingbox.dimensions.x = width  # width boundingbox width\n",
    "            boundingbox.dimensions.y = height  # height boundingbox height\n",
    "            boundingbox.dimensions.z = deep  # depth boundingbox depth\n",
    "            bboxarray.boxes.append(boundingbox)\n",
    "    pub_bb = rospy.Publisher('/bbox', BoundingBoxArray, queue_size=1)\n",
    "    rate = rospy.Rate(20)\n",
    "    pub_bb.publish(bboxarray)\n",
    "    # rate.sleep()\n",
    "    time_end = time.time()  # time end\n",
    "    time_c = time_end - time_start  # time used\n",
    "    print('time cost', time_c, 's')\n",
    "\n",
    "def subscribe():\n",
    "    rospy.init_node('bonus')\n",
    "    rospy.Subscriber(name=\"/me5413/lidar_top\",data_class=PointCloud2,callback=Callback)\n",
    "    rospy.spin()\n",
    "\n",
    "if __name__ == \"__main__\":\n",
    "    subscribe()\n",
    "\n",
    "\n",
    "\n",
    "\n",
    "\n"
   ]
  },
  {
   "cell_type": "code",
   "execution_count": null,
   "id": "94153529",
   "metadata": {},
   "outputs": [],
   "source": []
  }
 ],
 "metadata": {
  "kernelspec": {
   "display_name": "Python 3 (ipykernel)",
   "language": "python",
   "name": "python3"
  },
  "language_info": {
   "codemirror_mode": {
    "name": "ipython",
    "version": 3
   },
   "file_extension": ".py",
   "mimetype": "text/x-python",
   "name": "python",
   "nbconvert_exporter": "python",
   "pygments_lexer": "ipython3",
   "version": "3.9.12"
  }
 },
 "nbformat": 4,
 "nbformat_minor": 5
}
